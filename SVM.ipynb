{
  "nbformat": 4,
  "nbformat_minor": 0,
  "metadata": {
    "colab": {
      "name": "SVM.ipynb",
      "provenance": [],
      "collapsed_sections": [],
      "authorship_tag": "ABX9TyOLngunXtmKM2CI3sL+G2ze",
      "include_colab_link": true
    },
    "kernelspec": {
      "name": "python3",
      "display_name": "Python 3"
    },
    "language_info": {
      "name": "python"
    }
  },
  "cells": [
    {
      "cell_type": "markdown",
      "metadata": {
        "id": "view-in-github",
        "colab_type": "text"
      },
      "source": [
        "<a href=\"https://colab.research.google.com/github/HeoYurim/Colab/blob/main/SVM.ipynb\" target=\"_parent\"><img src=\"https://colab.research.google.com/assets/colab-badge.svg\" alt=\"Open In Colab\"/></a>"
      ]
    },
    {
      "cell_type": "markdown",
      "metadata": {
        "id": "LbpdOGJ_-snF"
      },
      "source": [
        "## 선형 SVM"
      ]
    },
    {
      "cell_type": "markdown",
      "metadata": {
        "id": "6VYyg6r0-xf6"
      },
      "source": [
        "### SVM 예제"
      ]
    },
    {
      "cell_type": "code",
      "metadata": {
        "id": "9WdCLJ34-YXZ"
      },
      "source": [
        "from sklearn.svm import SVC\n",
        "from sklearn import datasets"
      ],
      "execution_count": 1,
      "outputs": []
    },
    {
      "cell_type": "code",
      "metadata": {
        "id": "gr1tyQuz-7sE"
      },
      "source": [
        "iris = datasets.load_iris()\n",
        "X = iris[\"data\"][:, (2,3)] # 꽃잎 길이, 꽃잎 너비\n",
        "y = iris[\"target\"]"
      ],
      "execution_count": 2,
      "outputs": []
    },
    {
      "cell_type": "code",
      "metadata": {
        "id": "59Gz6hSJ-8vL"
      },
      "source": [
        "setosa_or_versicolor = (y == 0) | (y == 1)\n",
        "X = X[setosa_or_versicolor]     # 2개 클래스, 2개의 특성\n",
        "y = y[setosa_or_versicolor]"
      ],
      "execution_count": 3,
      "outputs": []
    },
    {
      "cell_type": "code",
      "metadata": {
        "colab": {
          "base_uri": "https://localhost:8080/"
        },
        "id": "MNqdURMP-9pj",
        "outputId": "2b053350-a5b4-48c4-81e5-3cf8981fe3fe"
      },
      "source": [
        "# SVM 분류 모델\n",
        "svm_clf = SVC(kernel= \"linear\", C = float(\"inf\"))  # 규제\n",
        "svm_clf.fit(X,y)  # 선형에 대한 부분을 가져와서 실행"
      ],
      "execution_count": 4,
      "outputs": [
        {
          "output_type": "execute_result",
          "data": {
            "text/plain": [
              "SVC(C=inf, kernel='linear')"
            ]
          },
          "metadata": {},
          "execution_count": 4
        }
      ]
    },
    {
      "cell_type": "markdown",
      "metadata": {
        "id": "60TW4Lk6-_v1"
      },
      "source": [
        "### 특성 스케일에 민감"
      ]
    },
    {
      "cell_type": "code",
      "metadata": {
        "id": "OqKN8400--lD"
      },
      "source": [
        "import numpy as np\n",
        "import matplotlib.pyplot as plt"
      ],
      "execution_count": 12,
      "outputs": []
    },
    {
      "cell_type": "code",
      "metadata": {
        "colab": {
          "base_uri": "https://localhost:8080/"
        },
        "id": "g-FLgWww_CyL",
        "outputId": "7dcabca0-451e-4b55-9006-2f29cb6482fc"
      },
      "source": [
        "Xs = np.array([[1, 50],[5, 20], [3, 80], [5, 60]]).astype(np.float64)\n",
        "ys = np.array([0, 0, 1, 1])\n",
        "svm_clf = SVC(kernel = \"linear\" , C = 100)\n",
        "svm_clf.fit(Xs, ys)"
      ],
      "execution_count": 9,
      "outputs": [
        {
          "output_type": "execute_result",
          "data": {
            "text/plain": [
              "SVC(C=100, kernel='linear')"
            ]
          },
          "metadata": {},
          "execution_count": 9
        }
      ]
    },
    {
      "cell_type": "code",
      "metadata": {
        "colab": {
          "base_uri": "https://localhost:8080/"
        },
        "id": "0W8twCKq_D4r",
        "outputId": "c4a792a0-dfb6-4268-ab3d-b1dad6675ee5"
      },
      "source": [
        "from sklearn.preprocessing import StandardScaler\n",
        "scaler = StandardScaler()\n",
        "X_scaled = scaler.fit_transform(Xs)\n",
        "svm_clf.fit(X_scaled, ys)"
      ],
      "execution_count": 10,
      "outputs": [
        {
          "output_type": "execute_result",
          "data": {
            "text/plain": [
              "SVC(C=100, kernel='linear')"
            ]
          },
          "metadata": {},
          "execution_count": 10
        }
      ]
    },
    {
      "cell_type": "markdown",
      "metadata": {
        "id": "1y4XgD5WBD3B"
      },
      "source": [
        "### 이상치에 민감"
      ]
    },
    {
      "cell_type": "code",
      "metadata": {
        "id": "dHCzQpxh_GKz"
      },
      "source": [
        "X_outliers = np.array([[3.4, 1.3], [3.2, 0.8]])\n",
        "y_outliers = np.array([0,0])\n",
        "Xo1 = np.concatenate([X, X_outliers[:1]], axis = 0)\n",
        "yo1 = np.concatenate([y, y_outliers[:1]], axis = 0)\n",
        "Xo2 = np.concatenate([X, X_outliers[1:]], axis = 0)\n",
        "yo2 = np.concatenate([y, y_outliers[1:]], axis = 0)"
      ],
      "execution_count": 14,
      "outputs": []
    },
    {
      "cell_type": "code",
      "metadata": {
        "colab": {
          "base_uri": "https://localhost:8080/"
        },
        "id": "_khiLJh7BGey",
        "outputId": "b8957be9-e4ea-4e69-e69c-070eeedfa57a"
      },
      "source": [
        "svm_clf2 = SVC(kernel = \"linear\", C = 10**9)\n",
        "svm_clf2.fit(Xo2,yo2)"
      ],
      "execution_count": 15,
      "outputs": [
        {
          "output_type": "execute_result",
          "data": {
            "text/plain": [
              "SVC(C=1000000000, kernel='linear')"
            ]
          },
          "metadata": {},
          "execution_count": 15
        }
      ]
    },
    {
      "cell_type": "markdown",
      "metadata": {
        "id": "7l8TJ9SGBXe1"
      },
      "source": [
        "### 다항 특성 사용한 SVM"
      ]
    },
    {
      "cell_type": "code",
      "metadata": {
        "id": "weAp2Z4aBHiS"
      },
      "source": [
        "from sklearn.preprocessing import PolynomialFeatures, StandardScaler\n",
        "from sklearn.pipeline import Pipeline\n",
        "from sklearn.svm import LinearSVC"
      ],
      "execution_count": 16,
      "outputs": []
    },
    {
      "cell_type": "code",
      "metadata": {
        "id": "Ds9AwzLdBc2q"
      },
      "source": [
        "polynomial_svm_clf = Pipeline([\n",
        "      ('poly_features', PolynomialFeatures(degree=3)),\n",
        "      ('scaler', StandardScaler()),\n",
        "      ('svm_clf', LinearSVC(C=10, loss='hinge', random_state=42))\n",
        "])"
      ],
      "execution_count": 17,
      "outputs": []
    },
    {
      "cell_type": "code",
      "metadata": {
        "colab": {
          "base_uri": "https://localhost:8080/"
        },
        "id": "iIC00XMIBeHr",
        "outputId": "9f369331-6645-41c5-fb35-923c43d49f2d"
      },
      "source": [
        "polynomial_svm_clf.fit(X,y)"
      ],
      "execution_count": 18,
      "outputs": [
        {
          "output_type": "execute_result",
          "data": {
            "text/plain": [
              "Pipeline(steps=[('poly_features', PolynomialFeatures(degree=3)),\n",
              "                ('scaler', StandardScaler()),\n",
              "                ('svm_clf', LinearSVC(C=10, loss='hinge', random_state=42))])"
            ]
          },
          "metadata": {},
          "execution_count": 18
        }
      ]
    },
    {
      "cell_type": "markdown",
      "metadata": {
        "id": "IlXDZFH9BfxA"
      },
      "source": [
        "### 커널 트릭 사용"
      ]
    },
    {
      "cell_type": "code",
      "metadata": {
        "id": "ZtArxLhCBfEy"
      },
      "source": [
        "from sklearn.svm import SVC"
      ],
      "execution_count": 19,
      "outputs": []
    },
    {
      "cell_type": "code",
      "metadata": {
        "id": "ymD8watlBiqC"
      },
      "source": [
        "poly_kernel_svm_clf = Pipeline([\n",
        "      ('scaler', StandardScaler()),\n",
        "      ('svm_clf', SVC(kernel='poly', degree=3, coef0=0.1, C=5))\n",
        "])"
      ],
      "execution_count": 20,
      "outputs": []
    },
    {
      "cell_type": "code",
      "metadata": {
        "colab": {
          "base_uri": "https://localhost:8080/"
        },
        "id": "QYmbI8wZBjhC",
        "outputId": "2a424c48-6c53-4544-ae9a-650a881b343b"
      },
      "source": [
        "poly_kernel_svm_clf.fit(X,y)"
      ],
      "execution_count": 21,
      "outputs": [
        {
          "output_type": "execute_result",
          "data": {
            "text/plain": [
              "Pipeline(steps=[('scaler', StandardScaler()),\n",
              "                ('svm_clf', SVC(C=5, coef0=0.1, kernel='poly'))])"
            ]
          },
          "metadata": {},
          "execution_count": 21
        }
      ]
    },
    {
      "cell_type": "markdown",
      "metadata": {
        "id": "NUPe2aFyBleL"
      },
      "source": [
        "### 가우시안 커널"
      ]
    },
    {
      "cell_type": "code",
      "metadata": {
        "id": "xg1_JJW8BkgD"
      },
      "source": [
        "from sklearn.svm import SVC"
      ],
      "execution_count": 22,
      "outputs": []
    },
    {
      "cell_type": "code",
      "metadata": {
        "id": "68BxqoZ9Bw4y"
      },
      "source": [
        "gamma1, gamma2 = 0.1, 5\n",
        "C1, C2 = 0.001, 1000\n",
        "hyperparams = (gamma1, C1), (gamma1, C2), (gamma2, C1), (gamma2, C2)"
      ],
      "execution_count": 23,
      "outputs": []
    },
    {
      "cell_type": "code",
      "metadata": {
        "id": "FkLvEfVYBx5i"
      },
      "source": [
        "svm_clfs = []\n",
        "for gamma, C in hyperparams:\n",
        "    rbf_kernel_svm_clf = Pipeline([\n",
        "            (\"scaler\", StandardScaler()),\n",
        "            (\"svm_clf\", SVC(kernel=\"rbf\", gamma=gamma, C=C))\n",
        "        ])\n",
        "    rbf_kernel_svm_clf.fit(X, y)\n",
        "    svm_clfs.append(rbf_kernel_svm_clf)"
      ],
      "execution_count": 24,
      "outputs": []
    },
    {
      "cell_type": "code",
      "metadata": {
        "id": "flrksNY5Bz17"
      },
      "source": [
        "plt.figure(figsize=(11, 7))\n",
        "\n",
        "for i, svm_clf in enumerate(svm_clfs):\n",
        "    plt.subplot(221 + i)\n",
        "    plot_predictions(svm_clf, [-1.5, 2.5, -1, 1.5])\n",
        "    plot_dataset(X, y, [-1.5, 2.5, -1, 1.5])\n",
        "    gamma, C = hyperparams[i]\n",
        "    plt.title(r\"$\\gamma = {}, C = {}$\".format(gamma, C), fontsize=16)\n",
        "\n",
        "\n",
        "plt.show()"
      ],
      "execution_count": null,
      "outputs": []
    }
  ]
}